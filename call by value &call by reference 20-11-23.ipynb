{
 "cells": [
  {
   "cell_type": "markdown",
   "id": "360d6162",
   "metadata": {},
   "source": [
    "# Call by value"
   ]
  },
  {
   "cell_type": "markdown",
   "id": "020d7c08",
   "metadata": {},
   "source": [
    "The parameter values are copied to function parameter and then two types of parameters are stored in the memory locations.\n",
    "\n",
    "When changes are made the functions are not reflected in the parameter of the caller.\n",
    "\n",
    "In call by value method of parameter passing, the values of actual parameters are copied to the function’s formal parameters.\n",
    "\n",
    "There are two copies of parameters stored in different memory locations.\n",
    "One is the original copy and the other is the function copy.\n",
    "Any changes made inside functions are not reflected in the actual parameters of the caller."
   ]
  },
  {
   "cell_type": "code",
   "execution_count": 2,
   "id": "82257b66",
   "metadata": {},
   "outputs": [
    {
     "name": "stdout",
     "output_type": "stream",
     "text": [
      "Inside Function: Python is a programming language\n",
      "Outside Function: Python\n"
     ]
    }
   ],
   "source": [
    "# call by value\n",
    " \n",
    "x = 'Python'\n",
    " \n",
    "def foo(x):\n",
    "     \n",
    "    x = \"Python is a programming language\"\n",
    "    print(\"Inside Function:\", x)\n",
    "    \n",
    "foo(x)\n",
    "print(\"Outside Function:\", x)"
   ]
  },
  {
   "cell_type": "markdown",
   "id": "adb9f4e9",
   "metadata": {},
   "source": [
    " # Call by reference:\n",
    " "
   ]
  },
  {
   "cell_type": "markdown",
   "id": "71bf8c81",
   "metadata": {},
   "source": [
    "Call by reference method copies the address of an argument into the formal parameter. In this method, the address is used to access the actual argument used in the function call. It means that changes made in the parameter alter the passing argument.\n",
    "\n",
    "In this method, the memory allocation is the same as the actual parameters. All the operation in the function are performed on the value stored at the address of the actual parameter, and the modified value will be stored at the same address.\n",
    "\n",
    "In call by reference method of parameter passing, the address of the actual parameters is passed to the function as the formal parameters.\n",
    "\n",
    "Both the actual and formal parameters refer to the same locations.\n",
    "Any changes made inside the function are actually reflected in the actual parameters of the caller."
   ]
  },
  {
   "cell_type": "code",
   "execution_count": null,
   "id": "ce19d94a",
   "metadata": {},
   "outputs": [],
   "source": [
    "# call by reference\n",
    " \n",
    "def foo(l):\n",
    "    l.append(7)\n",
    "    print(\"Inside Function\", l)\n",
    "    \n",
    "x = [1,2,3,4,5,6]\n",
    " \n",
    "foo(x)\n",
    "print(\"Outside Function:\", x)"
   ]
  },
  {
   "cell_type": "markdown",
   "id": "0dae8d89",
   "metadata": {},
   "source": [
    "# Difference between call by value and call by reference"
   ]
  },
  {
   "cell_type": "markdown",
   "id": "2ae4b1d2",
   "metadata": {},
   "source": [
    "Call By Value\n",
    "While calling a function, we pass the values of variables to it. Such functions are known as “Call By Values”.\n",
    "\n",
    "In this method, the value of each variable in the calling function is copied into corresponding dummy variables of the called function.\n",
    "\n",
    "With this method, the changes made to the dummy variables in the called function have no effect on the values of actual variables in the calling function.\n",
    "\n",
    "In call-by-values, we cannot alter the values of actual variables through function calls.\n",
    "\n",
    "Values of variables are passed by the Simple technique.\n",
    "\n",
    "This method is preferred when we have to pass some small values that should not change.\n",
    "\n"
   ]
  },
  {
   "cell_type": "code",
   "execution_count": null,
   "id": "12636023",
   "metadata": {},
   "outputs": [],
   "source": [
    "Call by reference :"
   ]
  },
  {
   "cell_type": "markdown",
   "id": "f5c2bf9d",
   "metadata": {},
   "source": [
    "While calling a function, instead of passing the values of variables, we pass the address of variables(location of variables) to the function known as “Call By References.\n",
    "\n",
    "In this method, the address of actual variables in the calling function is copied into the dummy variables of the called function.\n",
    "\n",
    "With this method, using addresses we would have access to the actual variables and hence we would be able to manipulate them.\n",
    "\n",
    "In call by reference, we can alter the values of variables through function calls.\n",
    "\n",
    "Pointer variables are necessary to define to store the address values of variables.\n",
    "\n",
    "This method is preferred when we have to pass a large amount of data to the function."
   ]
  },
  {
   "attachments": {
    "image.png": {
     "image/png": "[encoded data removed]"
    }
   },
   "cell_type": "markdown",
   "id": "1b67984b",
   "metadata": {},
   "source": [
    "![image.png](attachment:image.png)"
   ]
  },
  {
   "cell_type": "code",
   "execution_count": null,
   "id": "2171c071",
   "metadata": {},
   "outputs": [],
   "source": []
  }
 ],
 "metadata": {
  "kernelspec": {
   "display_name": "Python 3 (ipykernel)",
   "language": "python",
   "name": "python3"
  },
  "language_info": {
   "codemirror_mode": {
    "name": "ipython",
    "version": 3
   },
   "file_extension": ".py",
   "mimetype": "text/x-python",
   "name": "python",
   "nbconvert_exporter": "python",
   "pygments_lexer": "ipython3",
   "version": "3.11.5"
  }
 },
 "nbformat": 4,
 "nbformat_minor": 5
}
